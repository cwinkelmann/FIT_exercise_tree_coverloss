{
 "cells": [
  {
   "cell_type": "code",
   "execution_count": 2,
   "metadata": {
    "collapsed": true
   },
   "outputs": [],
   "source": [
    "import pandas as pd"
   ]
  },
  {
   "cell_type": "code",
   "execution_count": 5,
   "outputs": [
    {
     "data": {
      "text/plain": "      iso  umd_tree_cover_loss__year  umd_tree_cover_loss__ha  \\\n0     AFG                       2001                88.092712   \n1     AGO                       2001            101220.621524   \n2     AIA                       2001                 3.878461   \n3     ALA                       2001               396.934826   \n4     ALB                       2001              3729.021031   \n...   ...                        ...                      ...   \n3962  XKO                       2020               970.789805   \n3963  XNC                       2020                 6.185126   \n3964  ZAF                       2020             62247.300631   \n3965  ZMB                       2020            163028.437791   \n3966  ZWE                       2020              6224.919002   \n\n      gfw_gross_emissions_co2e_all_gases__Mg  \n0                               2.226891e+04  \n1                               3.687662e+07  \n2                               6.267003e+02  \n3                               7.589787e+04  \n4                               1.333223e+06  \n...                                      ...  \n3962                            5.576097e+05  \n3963                            1.797582e+03  \n3964                            4.492736e+07  \n3965                            5.971516e+07  \n3966                            2.842921e+06  \n\n[3967 rows x 4 columns]",
      "text/html": "<div>\n<style scoped>\n    .dataframe tbody tr th:only-of-type {\n        vertical-align: middle;\n    }\n\n    .dataframe tbody tr th {\n        vertical-align: top;\n    }\n\n    .dataframe thead th {\n        text-align: right;\n    }\n</style>\n<table border=\"1\" class=\"dataframe\">\n  <thead>\n    <tr style=\"text-align: right;\">\n      <th></th>\n      <th>iso</th>\n      <th>umd_tree_cover_loss__year</th>\n      <th>umd_tree_cover_loss__ha</th>\n      <th>gfw_gross_emissions_co2e_all_gases__Mg</th>\n    </tr>\n  </thead>\n  <tbody>\n    <tr>\n      <th>0</th>\n      <td>AFG</td>\n      <td>2001</td>\n      <td>88.092712</td>\n      <td>2.226891e+04</td>\n    </tr>\n    <tr>\n      <th>1</th>\n      <td>AGO</td>\n      <td>2001</td>\n      <td>101220.621524</td>\n      <td>3.687662e+07</td>\n    </tr>\n    <tr>\n      <th>2</th>\n      <td>AIA</td>\n      <td>2001</td>\n      <td>3.878461</td>\n      <td>6.267003e+02</td>\n    </tr>\n    <tr>\n      <th>3</th>\n      <td>ALA</td>\n      <td>2001</td>\n      <td>396.934826</td>\n      <td>7.589787e+04</td>\n    </tr>\n    <tr>\n      <th>4</th>\n      <td>ALB</td>\n      <td>2001</td>\n      <td>3729.021031</td>\n      <td>1.333223e+06</td>\n    </tr>\n    <tr>\n      <th>...</th>\n      <td>...</td>\n      <td>...</td>\n      <td>...</td>\n      <td>...</td>\n    </tr>\n    <tr>\n      <th>3962</th>\n      <td>XKO</td>\n      <td>2020</td>\n      <td>970.789805</td>\n      <td>5.576097e+05</td>\n    </tr>\n    <tr>\n      <th>3963</th>\n      <td>XNC</td>\n      <td>2020</td>\n      <td>6.185126</td>\n      <td>1.797582e+03</td>\n    </tr>\n    <tr>\n      <th>3964</th>\n      <td>ZAF</td>\n      <td>2020</td>\n      <td>62247.300631</td>\n      <td>4.492736e+07</td>\n    </tr>\n    <tr>\n      <th>3965</th>\n      <td>ZMB</td>\n      <td>2020</td>\n      <td>163028.437791</td>\n      <td>5.971516e+07</td>\n    </tr>\n    <tr>\n      <th>3966</th>\n      <td>ZWE</td>\n      <td>2020</td>\n      <td>6224.919002</td>\n      <td>2.842921e+06</td>\n    </tr>\n  </tbody>\n</table>\n<p>3967 rows × 4 columns</p>\n</div>"
     },
     "execution_count": 5,
     "metadata": {},
     "output_type": "execute_result"
    }
   ],
   "source": [
    "## read the csv\n",
    "df_treeloss_by_region = pd.read_csv( 'data/treecover_loss_by_region__ha.csv', sep=',' )\n",
    "\n",
    "df_treeloss_by_region"
   ],
   "metadata": {
    "collapsed": false,
    "pycharm": {
     "name": "#%%\n"
    }
   }
  }
 ],
 "metadata": {
  "kernelspec": {
   "display_name": "Python 3",
   "language": "python",
   "name": "python3"
  },
  "language_info": {
   "codemirror_mode": {
    "name": "ipython",
    "version": 2
   },
   "file_extension": ".py",
   "mimetype": "text/x-python",
   "name": "python",
   "nbconvert_exporter": "python",
   "pygments_lexer": "ipython2",
   "version": "2.7.6"
  }
 },
 "nbformat": 4,
 "nbformat_minor": 0
}