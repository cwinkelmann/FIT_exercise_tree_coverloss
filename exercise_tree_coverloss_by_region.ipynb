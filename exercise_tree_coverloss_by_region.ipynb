{
 "cells": [
  {
   "cell_type": "code",
   "execution_count": 77,
   "metadata": {
    "tags": []
   },
   "outputs": [],
   "source": [
    "import pandas as pd\n",
    "import matplotlib.pyplot as plt\n",
    "from matplotlib import dates as mdates\n",
    "import networkx as nx"
   ]
  },
  {
   "cell_type": "code",
   "execution_count": 33,
   "metadata": {
    "collapsed": false,
    "jupyter": {
     "outputs_hidden": false
    },
    "pycharm": {
     "name": "#%%\n"
    }
   },
   "outputs": [],
   "source": [
    "## read the csv\n",
    "df_treeloss_by_region = pd.read_csv( 'data/treecover_loss_by_region__ha.csv', sep=',' )\n",
    "df_iso_metadata = pd.read_csv( 'data/iso_metadata.csv', sep=',' )\n",
    "\n",
    "\n"
   ]
  },
  {
   "cell_type": "code",
   "execution_count": 34,
   "metadata": {
    "collapsed": false,
    "jupyter": {
     "outputs_hidden": false
    },
    "pycharm": {
     "name": "#%%\n"
    }
   },
   "outputs": [
    {
     "data": {
      "text/html": [
       "<div>\n",
       "<style scoped>\n",
       "    .dataframe tbody tr th:only-of-type {\n",
       "        vertical-align: middle;\n",
       "    }\n",
       "\n",
       "    .dataframe tbody tr th {\n",
       "        vertical-align: top;\n",
       "    }\n",
       "\n",
       "    .dataframe thead th {\n",
       "        text-align: right;\n",
       "    }\n",
       "</style>\n",
       "<table border=\"1\" class=\"dataframe\">\n",
       "  <thead>\n",
       "    <tr style=\"text-align: right;\">\n",
       "      <th></th>\n",
       "      <th>iso</th>\n",
       "      <th>umd_tree_cover_loss__year</th>\n",
       "      <th>umd_tree_cover_loss__ha</th>\n",
       "      <th>gfw_gross_emissions_co2e_all_gases__Mg</th>\n",
       "      <th>name</th>\n",
       "    </tr>\n",
       "  </thead>\n",
       "  <tbody>\n",
       "    <tr>\n",
       "      <th>0</th>\n",
       "      <td>AFG</td>\n",
       "      <td>2001</td>\n",
       "      <td>88.092712</td>\n",
       "      <td>2.226891e+04</td>\n",
       "      <td>Afghanistan</td>\n",
       "    </tr>\n",
       "    <tr>\n",
       "      <th>1</th>\n",
       "      <td>AGO</td>\n",
       "      <td>2001</td>\n",
       "      <td>101220.621524</td>\n",
       "      <td>3.687662e+07</td>\n",
       "      <td>Angola</td>\n",
       "    </tr>\n",
       "    <tr>\n",
       "      <th>2</th>\n",
       "      <td>AIA</td>\n",
       "      <td>2001</td>\n",
       "      <td>3.878461</td>\n",
       "      <td>6.267003e+02</td>\n",
       "      <td>Anguilla</td>\n",
       "    </tr>\n",
       "    <tr>\n",
       "      <th>3</th>\n",
       "      <td>ALA</td>\n",
       "      <td>2001</td>\n",
       "      <td>396.934826</td>\n",
       "      <td>7.589787e+04</td>\n",
       "      <td>Åland</td>\n",
       "    </tr>\n",
       "    <tr>\n",
       "      <th>4</th>\n",
       "      <td>ALB</td>\n",
       "      <td>2001</td>\n",
       "      <td>3729.021031</td>\n",
       "      <td>1.333223e+06</td>\n",
       "      <td>Albania</td>\n",
       "    </tr>\n",
       "    <tr>\n",
       "      <th>...</th>\n",
       "      <td>...</td>\n",
       "      <td>...</td>\n",
       "      <td>...</td>\n",
       "      <td>...</td>\n",
       "      <td>...</td>\n",
       "    </tr>\n",
       "    <tr>\n",
       "      <th>3962</th>\n",
       "      <td>XKO</td>\n",
       "      <td>2020</td>\n",
       "      <td>970.789805</td>\n",
       "      <td>5.576097e+05</td>\n",
       "      <td>Kosovo</td>\n",
       "    </tr>\n",
       "    <tr>\n",
       "      <th>3963</th>\n",
       "      <td>XNC</td>\n",
       "      <td>2020</td>\n",
       "      <td>6.185126</td>\n",
       "      <td>1.797582e+03</td>\n",
       "      <td>Northern Cyprus</td>\n",
       "    </tr>\n",
       "    <tr>\n",
       "      <th>3964</th>\n",
       "      <td>ZAF</td>\n",
       "      <td>2020</td>\n",
       "      <td>62247.300631</td>\n",
       "      <td>4.492736e+07</td>\n",
       "      <td>South Africa</td>\n",
       "    </tr>\n",
       "    <tr>\n",
       "      <th>3965</th>\n",
       "      <td>ZMB</td>\n",
       "      <td>2020</td>\n",
       "      <td>163028.437791</td>\n",
       "      <td>5.971516e+07</td>\n",
       "      <td>Zambia</td>\n",
       "    </tr>\n",
       "    <tr>\n",
       "      <th>3966</th>\n",
       "      <td>ZWE</td>\n",
       "      <td>2020</td>\n",
       "      <td>6224.919002</td>\n",
       "      <td>2.842921e+06</td>\n",
       "      <td>Zimbabwe</td>\n",
       "    </tr>\n",
       "  </tbody>\n",
       "</table>\n",
       "<p>3967 rows × 5 columns</p>\n",
       "</div>"
      ],
      "text/plain": [
       "      iso  umd_tree_cover_loss__year  umd_tree_cover_loss__ha  \\\n",
       "0     AFG                       2001                88.092712   \n",
       "1     AGO                       2001            101220.621524   \n",
       "2     AIA                       2001                 3.878461   \n",
       "3     ALA                       2001               396.934826   \n",
       "4     ALB                       2001              3729.021031   \n",
       "...   ...                        ...                      ...   \n",
       "3962  XKO                       2020               970.789805   \n",
       "3963  XNC                       2020                 6.185126   \n",
       "3964  ZAF                       2020             62247.300631   \n",
       "3965  ZMB                       2020            163028.437791   \n",
       "3966  ZWE                       2020              6224.919002   \n",
       "\n",
       "      gfw_gross_emissions_co2e_all_gases__Mg             name  \n",
       "0                               2.226891e+04      Afghanistan  \n",
       "1                               3.687662e+07           Angola  \n",
       "2                               6.267003e+02         Anguilla  \n",
       "3                               7.589787e+04            Åland  \n",
       "4                               1.333223e+06          Albania  \n",
       "...                                      ...              ...  \n",
       "3962                            5.576097e+05           Kosovo  \n",
       "3963                            1.797582e+03  Northern Cyprus  \n",
       "3964                            4.492736e+07     South Africa  \n",
       "3965                            5.971516e+07           Zambia  \n",
       "3966                            2.842921e+06         Zimbabwe  \n",
       "\n",
       "[3967 rows x 5 columns]"
      ]
     },
     "execution_count": 34,
     "metadata": {},
     "output_type": "execute_result"
    }
   ],
   "source": [
    "df_treeloss_by_region\n",
    "\n",
    "\n",
    "## TODO join the df_iso_metadata with df_treeloss_by_region\n",
    "df_merged_treeloss_by_region = df_treeloss_by_region.merge(df_iso_metadata, on=[\"iso\", \"iso\"], how=\"left\")\n",
    "\n",
    "df_merged_treeloss_by_region"
   ]
  },
  {
   "cell_type": "code",
   "execution_count": 35,
   "metadata": {
    "collapsed": false,
    "jupyter": {
     "outputs_hidden": false
    },
    "pycharm": {
     "name": "#%%\n"
    }
   },
   "outputs": [
    {
     "data": {
      "text/plain": [
       "array([2001, 2002, 2003, 2004, 2005, 2006, 2007, 2008, 2009, 2010, 2011,\n",
       "       2012, 2013, 2014, 2015, 2016, 2017, 2018, 2019, 2020], dtype=int64)"
      ]
     },
     "execution_count": 35,
     "metadata": {},
     "output_type": "execute_result"
    }
   ],
   "source": [
    "## TODO Display the top 5 regions by aggregated loss\n",
    "df_merged_treeloss_by_region[\"umd_tree_cover_loss__year\"].unique()\n",
    "\n",
    "## TODO filter for those some regions\n",
    "\n"
   ]
  },
  {
   "cell_type": "code",
   "execution_count": 1,
   "metadata": {
    "collapsed": false,
    "jupyter": {
     "outputs_hidden": false
    },
    "pycharm": {
     "name": "#%%\n"
    }
   },
   "outputs": [
    {
     "data": {
      "application/vnd.jupyter.widget-view+json": {
       "model_id": "339d099615c34dcb9e893d1cf910d461",
       "version_major": 2,
       "version_minor": 0
      },
      "text/plain": [
       "IntSlider(value=10, max=30, min=-10)"
      ]
     },
     "metadata": {},
     "output_type": "display_data"
    }
   ],
   "source": [
    "from __future__ import print_function\n",
    "from ipywidgets import interact, interactive, fixed, interact_manual\n",
    "import ipywidgets as widgets\n",
    "\n"
   ]
  },
  {
   "cell_type": "code",
   "execution_count": 28,
   "metadata": {
    "collapsed": false,
    "jupyter": {
     "outputs_hidden": false
    },
    "pycharm": {
     "name": "#%%\n"
    }
   },
   "outputs": [],
   "source": [
    "# wrap a few graph generation functions so they have the same signature\n",
    "# https://github.com/jupyter-widgets/ipywidgets/blob/master/docs/source/examples/Using%20Interact.ipynb\n",
    "def random_lobster(n, m, k, p):\n",
    "    list1 = [ 1, 2, 4, 5, 7, 8, 9 ]\n",
    "    list2 = [ 0, 3, 3, 5, 6, 8, 6 ]\n",
    "    list3 = [ 0, 3, 4, 0, 1, 3, 2 ]\n",
    "    if n == 1:\n",
    "        return list1\n",
    "    if n == 2:\n",
    "        return list2\n",
    "    if n == 3:\n",
    "        return list3\n",
    "\n",
    "def plot_random_graph(n, m, k, p, generator):\n",
    "    the_list = generator(n, m, k, p)\n",
    "    fig, ax = plt.subplots() # Create a figure and axis using plt.subplots\n",
    "\n",
    "    ax.plot( the_list ) # Plot some data in the axis\n",
    "\n",
    "    plt.show( fig ) # Show the figure in the screen\n",
    "\n",
    "    plt.close( fig ) # Close the figure"
   ]
  },
  {
   "cell_type": "code",
   "execution_count": 29,
   "metadata": {
    "collapsed": false,
    "jupyter": {
     "outputs_hidden": false
    },
    "pycharm": {
     "name": "#%%\n"
    }
   },
   "outputs": [
    {
     "data": {
      "application/vnd.jupyter.widget-view+json": {
       "model_id": "e93909d2ec904d29b64b5b7fd7fc2eca",
       "version_major": 2,
       "version_minor": 0
      },
      "text/plain": [
       "interactive(children=(IntSlider(value=2, description='n', max=3, min=1), IntSlider(value=5, description='m', m…"
      ]
     },
     "metadata": {},
     "output_type": "display_data"
    }
   ],
   "source": [
    "\n",
    "interact(plot_random_graph, n=(1,3), m=(1,10), k=(1,10), p=(0.0, 0.99, 0.001),\n",
    "         generator=[\n",
    "             ('lobster', random_lobster)\n",
    "         ]);\n"
   ]
  },
  {
   "cell_type": "code",
   "execution_count": 83,
   "metadata": {
    "collapsed": false,
    "jupyter": {
     "outputs_hidden": false
    },
    "pycharm": {
     "name": "#%%\n"
    }
   },
   "outputs": [
    {
     "data": {
      "application/vnd.jupyter.widget-view+json": {
       "model_id": "3df14184ad044bf185070e021535bcdd",
       "version_major": 2,
       "version_minor": 0
      },
      "text/plain": [
       "interactive(children=(IntSlider(value=2001, description='selected_year', max=2020, min=2001), Output()), _dom_…"
      ]
     },
     "metadata": {},
     "output_type": "display_data"
    }
   ],
   "source": [
    "def f(selected_year):\n",
    "    #print(selected_year)\n",
    "    #print(df_merged_treeloss_by_region[ df_merged_treeloss_by_region['umd_tree_cover_loss__year']== selected_year ].head())\n",
    "    df_by_year = df_merged_treeloss_by_region[ df_merged_treeloss_by_region['umd_tree_cover_loss__year']== selected_year ]\n",
    "    return df_by_year[[\"name\", \"umd_tree_cover_loss__ha\", \"gfw_gross_emissions_co2e_all_gases__Mg\" ]].sort_values(\"umd_tree_cover_loss__ha\", ascending=False)\n",
    "df_by_year = interact(f, selected_year=widgets.IntSlider(min=2001, max=2020, step=1, value=2001));\n"
   ]
  },
  {
   "cell_type": "code",
   "execution_count": 98,
   "metadata": {},
   "outputs": [
    {
     "data": {
      "text/html": [
       "<div>\n",
       "<style scoped>\n",
       "    .dataframe tbody tr th:only-of-type {\n",
       "        vertical-align: middle;\n",
       "    }\n",
       "\n",
       "    .dataframe tbody tr th {\n",
       "        vertical-align: top;\n",
       "    }\n",
       "\n",
       "    .dataframe thead th {\n",
       "        text-align: right;\n",
       "    }\n",
       "</style>\n",
       "<table border=\"1\" class=\"dataframe\">\n",
       "  <thead>\n",
       "    <tr style=\"text-align: right;\">\n",
       "      <th></th>\n",
       "      <th>iso</th>\n",
       "      <th>umd_tree_cover_loss__year</th>\n",
       "      <th>umd_tree_cover_loss__ha</th>\n",
       "      <th>gfw_gross_emissions_co2e_all_gases__Mg</th>\n",
       "      <th>name</th>\n",
       "    </tr>\n",
       "    <tr>\n",
       "      <th>umd_tree_cover_loss__year</th>\n",
       "      <th></th>\n",
       "      <th></th>\n",
       "      <th></th>\n",
       "      <th></th>\n",
       "      <th></th>\n",
       "    </tr>\n",
       "  </thead>\n",
       "  <tbody>\n",
       "    <tr>\n",
       "      <th>2001-01-01</th>\n",
       "      <td>BRA</td>\n",
       "      <td>2001</td>\n",
       "      <td>2.746362e+06</td>\n",
       "      <td>1.177965e+09</td>\n",
       "      <td>Brazil</td>\n",
       "    </tr>\n",
       "    <tr>\n",
       "      <th>2002-01-01</th>\n",
       "      <td>BRA</td>\n",
       "      <td>2002</td>\n",
       "      <td>3.507049e+06</td>\n",
       "      <td>1.611052e+09</td>\n",
       "      <td>Brazil</td>\n",
       "    </tr>\n",
       "    <tr>\n",
       "      <th>2003-01-01</th>\n",
       "      <td>BRA</td>\n",
       "      <td>2003</td>\n",
       "      <td>3.248527e+06</td>\n",
       "      <td>1.478305e+09</td>\n",
       "      <td>Brazil</td>\n",
       "    </tr>\n",
       "    <tr>\n",
       "      <th>2004-01-01</th>\n",
       "      <td>BRA</td>\n",
       "      <td>2004</td>\n",
       "      <td>3.848771e+06</td>\n",
       "      <td>1.884753e+09</td>\n",
       "      <td>Brazil</td>\n",
       "    </tr>\n",
       "    <tr>\n",
       "      <th>2005-01-01</th>\n",
       "      <td>BRA</td>\n",
       "      <td>2005</td>\n",
       "      <td>3.486563e+06</td>\n",
       "      <td>1.816124e+09</td>\n",
       "      <td>Brazil</td>\n",
       "    </tr>\n",
       "    <tr>\n",
       "      <th>2006-01-01</th>\n",
       "      <td>BRA</td>\n",
       "      <td>2006</td>\n",
       "      <td>2.876805e+06</td>\n",
       "      <td>1.460419e+09</td>\n",
       "      <td>Brazil</td>\n",
       "    </tr>\n",
       "    <tr>\n",
       "      <th>2007-01-01</th>\n",
       "      <td>BRA</td>\n",
       "      <td>2007</td>\n",
       "      <td>2.621820e+06</td>\n",
       "      <td>1.280187e+09</td>\n",
       "      <td>Brazil</td>\n",
       "    </tr>\n",
       "    <tr>\n",
       "      <th>2008-01-01</th>\n",
       "      <td>BRA</td>\n",
       "      <td>2008</td>\n",
       "      <td>2.444308e+06</td>\n",
       "      <td>1.243627e+09</td>\n",
       "      <td>Brazil</td>\n",
       "    </tr>\n",
       "    <tr>\n",
       "      <th>2009-01-01</th>\n",
       "      <td>BRA</td>\n",
       "      <td>2009</td>\n",
       "      <td>1.817901e+06</td>\n",
       "      <td>9.411440e+08</td>\n",
       "      <td>Brazil</td>\n",
       "    </tr>\n",
       "    <tr>\n",
       "      <th>2010-01-01</th>\n",
       "      <td>BRA</td>\n",
       "      <td>2010</td>\n",
       "      <td>2.688896e+06</td>\n",
       "      <td>1.385967e+09</td>\n",
       "      <td>Brazil</td>\n",
       "    </tr>\n",
       "    <tr>\n",
       "      <th>2011-01-01</th>\n",
       "      <td>BRA</td>\n",
       "      <td>2011</td>\n",
       "      <td>1.923364e+06</td>\n",
       "      <td>1.035820e+09</td>\n",
       "      <td>Brazil</td>\n",
       "    </tr>\n",
       "    <tr>\n",
       "      <th>2012-01-01</th>\n",
       "      <td>BRA</td>\n",
       "      <td>2012</td>\n",
       "      <td>2.918633e+06</td>\n",
       "      <td>1.516838e+09</td>\n",
       "      <td>Brazil</td>\n",
       "    </tr>\n",
       "    <tr>\n",
       "      <th>2013-01-01</th>\n",
       "      <td>BRA</td>\n",
       "      <td>2013</td>\n",
       "      <td>1.945506e+06</td>\n",
       "      <td>1.093546e+09</td>\n",
       "      <td>Brazil</td>\n",
       "    </tr>\n",
       "    <tr>\n",
       "      <th>2014-01-01</th>\n",
       "      <td>BRA</td>\n",
       "      <td>2014</td>\n",
       "      <td>2.693134e+06</td>\n",
       "      <td>1.563109e+09</td>\n",
       "      <td>Brazil</td>\n",
       "    </tr>\n",
       "    <tr>\n",
       "      <th>2015-01-01</th>\n",
       "      <td>BRA</td>\n",
       "      <td>2015</td>\n",
       "      <td>2.222772e+06</td>\n",
       "      <td>1.398102e+09</td>\n",
       "      <td>Brazil</td>\n",
       "    </tr>\n",
       "    <tr>\n",
       "      <th>2016-01-01</th>\n",
       "      <td>BRA</td>\n",
       "      <td>2016</td>\n",
       "      <td>5.378844e+06</td>\n",
       "      <td>3.306077e+09</td>\n",
       "      <td>Brazil</td>\n",
       "    </tr>\n",
       "    <tr>\n",
       "      <th>2017-01-01</th>\n",
       "      <td>BRA</td>\n",
       "      <td>2017</td>\n",
       "      <td>4.519833e+06</td>\n",
       "      <td>2.711124e+09</td>\n",
       "      <td>Brazil</td>\n",
       "    </tr>\n",
       "    <tr>\n",
       "      <th>2018-01-01</th>\n",
       "      <td>BRA</td>\n",
       "      <td>2018</td>\n",
       "      <td>2.948462e+06</td>\n",
       "      <td>1.871296e+09</td>\n",
       "      <td>Brazil</td>\n",
       "    </tr>\n",
       "    <tr>\n",
       "      <th>2019-01-01</th>\n",
       "      <td>BRA</td>\n",
       "      <td>2019</td>\n",
       "      <td>2.696749e+06</td>\n",
       "      <td>1.740522e+09</td>\n",
       "      <td>Brazil</td>\n",
       "    </tr>\n",
       "    <tr>\n",
       "      <th>2020-01-01</th>\n",
       "      <td>BRA</td>\n",
       "      <td>2020</td>\n",
       "      <td>3.291392e+06</td>\n",
       "      <td>1.961238e+09</td>\n",
       "      <td>Brazil</td>\n",
       "    </tr>\n",
       "  </tbody>\n",
       "</table>\n",
       "</div>"
      ],
      "text/plain": [
       "                           iso  umd_tree_cover_loss__year  \\\n",
       "umd_tree_cover_loss__year                                   \n",
       "2001-01-01                 BRA                       2001   \n",
       "2002-01-01                 BRA                       2002   \n",
       "2003-01-01                 BRA                       2003   \n",
       "2004-01-01                 BRA                       2004   \n",
       "2005-01-01                 BRA                       2005   \n",
       "2006-01-01                 BRA                       2006   \n",
       "2007-01-01                 BRA                       2007   \n",
       "2008-01-01                 BRA                       2008   \n",
       "2009-01-01                 BRA                       2009   \n",
       "2010-01-01                 BRA                       2010   \n",
       "2011-01-01                 BRA                       2011   \n",
       "2012-01-01                 BRA                       2012   \n",
       "2013-01-01                 BRA                       2013   \n",
       "2014-01-01                 BRA                       2014   \n",
       "2015-01-01                 BRA                       2015   \n",
       "2016-01-01                 BRA                       2016   \n",
       "2017-01-01                 BRA                       2017   \n",
       "2018-01-01                 BRA                       2018   \n",
       "2019-01-01                 BRA                       2019   \n",
       "2020-01-01                 BRA                       2020   \n",
       "\n",
       "                           umd_tree_cover_loss__ha  \\\n",
       "umd_tree_cover_loss__year                            \n",
       "2001-01-01                            2.746362e+06   \n",
       "2002-01-01                            3.507049e+06   \n",
       "2003-01-01                            3.248527e+06   \n",
       "2004-01-01                            3.848771e+06   \n",
       "2005-01-01                            3.486563e+06   \n",
       "2006-01-01                            2.876805e+06   \n",
       "2007-01-01                            2.621820e+06   \n",
       "2008-01-01                            2.444308e+06   \n",
       "2009-01-01                            1.817901e+06   \n",
       "2010-01-01                            2.688896e+06   \n",
       "2011-01-01                            1.923364e+06   \n",
       "2012-01-01                            2.918633e+06   \n",
       "2013-01-01                            1.945506e+06   \n",
       "2014-01-01                            2.693134e+06   \n",
       "2015-01-01                            2.222772e+06   \n",
       "2016-01-01                            5.378844e+06   \n",
       "2017-01-01                            4.519833e+06   \n",
       "2018-01-01                            2.948462e+06   \n",
       "2019-01-01                            2.696749e+06   \n",
       "2020-01-01                            3.291392e+06   \n",
       "\n",
       "                           gfw_gross_emissions_co2e_all_gases__Mg    name  \n",
       "umd_tree_cover_loss__year                                                  \n",
       "2001-01-01                                           1.177965e+09  Brazil  \n",
       "2002-01-01                                           1.611052e+09  Brazil  \n",
       "2003-01-01                                           1.478305e+09  Brazil  \n",
       "2004-01-01                                           1.884753e+09  Brazil  \n",
       "2005-01-01                                           1.816124e+09  Brazil  \n",
       "2006-01-01                                           1.460419e+09  Brazil  \n",
       "2007-01-01                                           1.280187e+09  Brazil  \n",
       "2008-01-01                                           1.243627e+09  Brazil  \n",
       "2009-01-01                                           9.411440e+08  Brazil  \n",
       "2010-01-01                                           1.385967e+09  Brazil  \n",
       "2011-01-01                                           1.035820e+09  Brazil  \n",
       "2012-01-01                                           1.516838e+09  Brazil  \n",
       "2013-01-01                                           1.093546e+09  Brazil  \n",
       "2014-01-01                                           1.563109e+09  Brazil  \n",
       "2015-01-01                                           1.398102e+09  Brazil  \n",
       "2016-01-01                                           3.306077e+09  Brazil  \n",
       "2017-01-01                                           2.711124e+09  Brazil  \n",
       "2018-01-01                                           1.871296e+09  Brazil  \n",
       "2019-01-01                                           1.740522e+09  Brazil  \n",
       "2020-01-01                                           1.961238e+09  Brazil  "
      ]
     },
     "execution_count": 98,
     "metadata": {},
     "output_type": "execute_result"
    }
   ],
   "source": [
    "df_country = df_merged_treeloss_by_region[ (df_merged_treeloss_by_region['name']== 'Brazil') ]\n",
    "df_country.index = pd.to_datetime( df_country[ 'umd_tree_cover_loss__year' ], format='%Y' )\n",
    "df_country"
   ]
  },
  {
   "cell_type": "code",
   "execution_count": 102,
   "metadata": {},
   "outputs": [
    {
     "data": {
      "image/png": "[encoded data removed]",
      "text/plain": [
       "<Figure size 432x288 with 1 Axes>"
      ]
     },
     "metadata": {
      "needs_background": "light"
     },
     "output_type": "display_data"
    }
   ],
   "source": [
    "#---------------------------------------------------------------------\n",
    "# Part 1: Create a figure and axis using plt.subplots\n",
    "fig, ax = plt.subplots()\n",
    "#---------------------------------------------------------------------\n",
    "\n",
    "# Part 2: Plot, modify, plot again, include text, etc.\n",
    "ax.plot( df_country.index, df_country['umd_tree_cover_loss__ha'] )\n",
    "#Format axes\n",
    "#ax.xaxis.set_major_locator( mdates.YearLocator(1,1,1 ))\n",
    "#ax.xaxis.set_major_formatter( mdates.DateFormatter('%Y') ) \n",
    "#---------------------------------------------------------------------\n",
    "# Part 3: Show, save to file, and close\n",
    "plt.show( fig ) \n",
    "plt.close( fig )"
   ]
  },
  {
   "cell_type": "code",
   "execution_count": 114,
   "metadata": {},
   "outputs": [
    {
     "name": "stderr",
     "output_type": "stream",
     "text": [
      "The PostScript backend does not support transparency; partially transparent artists will be rendered opaque.\n",
      "The PostScript backend does not support transparency; partially transparent artists will be rendered opaque.\n"
     ]
    },
    {
     "data": {
      "image/png": "[encoded data removed]",
      "text/plain": [
       "<Figure size 648x432 with 2 Axes>"
      ]
     },
     "metadata": {
      "needs_background": "light"
     },
     "output_type": "display_data"
    }
   ],
   "source": [
    "\n",
    "#---------------------------------------------------------------------\n",
    "# Part 1: Create a figure and axis using plt.subplots\n",
    "fig, ax = plt.subplots( figsize=(9,6) )\n",
    "plt.xticks(rotation=45)\n",
    "\n",
    "ax_right = ax.twinx()\n",
    "#---------------------------------------------------------------------\n",
    "\n",
    "# Part 2: Plot, modify, plot again, include text, etc.\n",
    "ax.plot( df_country.index, df_country['umd_tree_cover_loss__ha'], color='red', label='umd_tree_cover_loss__ha' )\n",
    "# ax.plot( df_country.index[0], [0], color='blue', label='gfw_gross_emissions_co2e_all_gases__Mg' ) # Trick: doesn't print anything, only used to get the legend\n",
    "\n",
    "ax_right.plot( df_country.index, df_country['gfw_gross_emissions_co2e_all_gases__Mg'], color='blue', label='gfw_gross_emissions_co2e_all_gases__Mg' )\n",
    "\n",
    "#Format axes\n",
    "ax.xaxis.set_major_locator( mdates.YearLocator(1,1,1 ))\n",
    "ax.xaxis.set_major_formatter( mdates.DateFormatter('%Y') ) \n",
    "\n",
    "ax.set_xlabel( 'Time', fontsize=14 )\n",
    "ax.set_ylabel( 'Tree Cover Loss $[gT]$', fontsize=14 )\n",
    "ax_right.set_ylabel( 'Gross $CO_2$ Emissions $[gT]$', fontsize=14 )\n",
    "\n",
    "#ax.set_ylim( [10,32] )\n",
    "#ax_right.set_ylim( [20,100] )\n",
    "\n",
    "ax_right.grid( False )\n",
    "\n",
    "ax.legend( loc='upper left' )\n",
    "#ax_right.legend( loc='top right' )\n",
    "\n",
    "# fig.suptitle( 'Air conditions at the agroforestry plot\\n ' + str( start.date() ), fontsize=18 )\n",
    "\n",
    "#---------------------------------------------------------------------\n",
    "# Part 3: Show, save to file, and close\n",
    "fig.tight_layout( rect=[0,0,1,0.99] )\n",
    "plt.savefig( 'temp-rh.eps', dpi=300 )\n",
    "plt.show( fig ) \n",
    "plt.close( fig )\n",
    "#---------------------------------------------------------------------"
   ]
  },
  {
   "cell_type": "code",
   "execution_count": null,
   "metadata": {},
   "outputs": [],
   "source": []
  },
  {
   "cell_type": "code",
   "execution_count": null,
   "metadata": {},
   "outputs": [],
   "source": []
  },
  {
   "cell_type": "code",
   "execution_count": null,
   "metadata": {},
   "outputs": [],
   "source": []
  }
 ],
 "metadata": {
  "kernelspec": {
   "display_name": "Python 3",
   "language": "python",
   "name": "python3"
  },
  "language_info": {
   "codemirror_mode": {
    "name": "ipython",
    "version": 3
   },
   "file_extension": ".py",
   "mimetype": "text/x-python",
   "name": "python",
   "nbconvert_exporter": "python",
   "pygments_lexer": "ipython3",
   "version": "3.8.8"
  }
 },
 "nbformat": 4,
 "nbformat_minor": 4
}
